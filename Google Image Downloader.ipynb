{
 "cells": [
  {
   "cell_type": "markdown",
   "metadata": {},
   "source": [
    "**Instructions For Use:**\n",
    "\n",
    "Download the Chrome Driver for the latest chrome version here: https://chromedriver.chromium.org/downloads\n",
    "\n",
    "Extract the zip file and change the *DRIVER_PATH* variable to the driver path. Remember to include the 'chromedriver.exe' at the end of the path.\n",
    "\n",
    "The *query* variable is what will be searched on Google Images. It is recommended to search a couple of queries on Google Images to see the results before using the algorithm. This yields in the best result.\n",
    "\n",
    "Input the desired download path in the variable *download_path*\n",
    "\n",
    "Input the desired number of images in the variable *links_to_fetch*\n",
    "\n",
    "**Note: It is normal for some images to not get downloaded! Input the desired number of images greater than the actual number!**\n",
    "**Enjoy!**"
   ]
  },
  {
   "cell_type": "code",
   "execution_count": 2,
   "metadata": {},
   "outputs": [],
   "source": [
    "import selenium\n",
    "from selenium import webdriver\n",
    "import time\n",
    "import urllib.request\n",
    "\n",
    "def fetch_image_urls(wd,query:str,links_to_fetch:int):\n",
    "    \n",
    "    def scroll_to_end(wd):\n",
    "        last_height = wd.execute_script('return document.body.scrollHeight')\n",
    "        while True:\n",
    "            wd.execute_script(\"window.scrollTo(0,document.body.scrollHeight);\")\n",
    "            time.sleep(6)\n",
    "            new_height = wd.execute_script('return document.body.scrollHeight')\n",
    "            try:\n",
    "                wd.find_element_by_css_selector(\".r0zKGf\").click()\n",
    "                time.sleep(4)\n",
    "            except:\n",
    "                try:\n",
    "                    wd.find_element_by_css_selector(\".mye4qd\").click()\n",
    "                    time.sleep(4)\n",
    "                except:\n",
    "                    if last_height == new_height:\n",
    "                        break\n",
    "                    last_height = new_height\n",
    "        \n",
    "    search_url = \"https://www.google.com/search?safe=off&site=&tbm=isch&source=hp&q={q}&oq={q}&gs_l=img\"\n",
    "    wd.get(search_url.format(q=query))\n",
    "    \n",
    "    image_urls = set()\n",
    "    result_starting_point = 0\n",
    "    \n",
    "    scroll_to_end(wd)\n",
    "    \n",
    "    images = wd.find_elements_by_css_selector(\".rg_i.Q4LuWd\") #Result is a list\n",
    "\n",
    "    for i in range(1,links_to_fetch):\n",
    "        try:\n",
    "            img = wd.find_element_by_xpath(f\"//*[@id='islrg']/div[1]/div[{i}]/a[1]/div[1]/img\")\n",
    "            if (img.get_attribute(\"src\")):\n",
    "                image_urls.add(img.get_attribute(\"src\"))\n",
    "        except:\n",
    "            pass\n",
    "    \n",
    "    wd.quit()\n",
    "    return list(image_urls)\n",
    "\n",
    "def download_images(image_urls, download_path):\n",
    "\n",
    "    imgs_not_downloaded = []\n",
    "    num_of_imgs_not_downloaded = 0\n",
    "    counter = 1\n",
    "    \n",
    "    for url in image_urls:\n",
    "        try:\n",
    "            urllib.request.urlretrieve(url,download_path+str(counter)+\".jpg\")\n",
    "            counter += 1\n",
    "        except:\n",
    "            imgs_not_downloaded.append(url)\n",
    "            num_of_imgs_not_downloaded += 1\n",
    "        \n",
    "    if num_of_imgs_not_downloaded > 0:\n",
    "        print(f\"Something went wrong when downloading some image(s). {num_of_imgs_not_downloaded} image(s) were not downloaded.\")\n",
    "    else:\n",
    "        print(\"Successfully downloaded all image(s)!\")"
   ]
  },
  {
   "cell_type": "code",
   "execution_count": null,
   "metadata": {},
   "outputs": [],
   "source": [
    "query = \"\"\n",
    "download_path = \"C://Users//syber//Desktop//Python Files//Random Projects//Images Web Scraping//Images//\"\n",
    "links_to_fetch = 0\n",
    "DRIVER_PATH = \"C://Users//syber//Desktop//Python Files//Random Projects//chromedriver_win32//chromedriver.exe\" # Path to chrome driver\n",
    "\n",
    "wd = webdriver.Chrome(executable_path = DRIVER_PATH)\n",
    "image_urls = fetch_image_urls(wd, query, links_to_fetch)\n",
    "download_images(image_urls, download_path)"
   ]
  },
  {
   "cell_type": "code",
   "execution_count": null,
   "metadata": {},
   "outputs": [],
   "source": []
  },
  {
   "cell_type": "code",
   "execution_count": null,
   "metadata": {},
   "outputs": [],
   "source": []
  },
  {
   "cell_type": "code",
   "execution_count": null,
   "metadata": {},
   "outputs": [],
   "source": []
  },
  {
   "cell_type": "code",
   "execution_count": 5,
   "metadata": {},
   "outputs": [
    {
     "name": "stdout",
     "output_type": "stream",
     "text": [
      "712\n"
     ]
    }
   ],
   "source": [
    "query = \"military soldier\"\n",
    "download_path = \"C://Users//syber//Desktop//Python Files//Random Projects//Mask Images Web Scraping//Images//\"\n",
    "links_to_fetch = 1500\n",
    "DRIVER_PATH = \"C://Users//syber//Desktop//Python Files//Random Projects//chromedriver_win32//chromedriver.exe\" # Path to chrome driver\n",
    "\n",
    "wd = webdriver.Chrome(executable_path = DRIVER_PATH)\n",
    "image_urls = fetch_image_urls(wd, query, links_to_fetch)"
   ]
  },
  {
   "cell_type": "code",
   "execution_count": 6,
   "metadata": {},
   "outputs": [
    {
     "data": {
      "text/plain": [
       "395"
      ]
     },
     "execution_count": 6,
     "metadata": {},
     "output_type": "execute_result"
    }
   ],
   "source": [
    "len(image_urls)"
   ]
  },
  {
   "cell_type": "code",
   "execution_count": null,
   "metadata": {},
   "outputs": [],
   "source": []
  }
 ],
 "metadata": {
  "kernelspec": {
   "display_name": "Python 3",
   "language": "python",
   "name": "python3"
  },
  "language_info": {
   "codemirror_mode": {
    "name": "ipython",
    "version": 3
   },
   "file_extension": ".py",
   "mimetype": "text/x-python",
   "name": "python",
   "nbconvert_exporter": "python",
   "pygments_lexer": "ipython3",
   "version": "3.7.4"
  }
 },
 "nbformat": 4,
 "nbformat_minor": 2
}
